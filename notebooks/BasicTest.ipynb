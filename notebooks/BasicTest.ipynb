{
 "cells": [
  {
   "cell_type": "markdown",
   "id": "3e7c8f0c-c0d8-4499-871b-b153cdee6523",
   "metadata": {},
   "source": [
    "# This is a notebook to make some basic test with OpenAI ChatGPT API "
   ]
  },
  {
   "cell_type": "code",
   "execution_count": null,
   "id": "be27f252-a3d9-4857-babd-0e73211e174b",
   "metadata": {},
   "outputs": [],
   "source": [
    "# Let's change first our configuration in the .env file\n",
    "from dotenv import load_dotenv\n",
    "load_dotenv()"
   ]
  },
  {
   "cell_type": "code",
   "execution_count": null,
   "id": "f6c75c59-3c39-4503-857d-8a83d10ffa8b",
   "metadata": {},
   "outputs": [],
   "source": [
    "# import main components\n",
    "import openai"
   ]
  },
  {
   "cell_type": "code",
   "execution_count": null,
   "id": "f5acfe16-601d-4c7e-9890-e76cb6d7e53e",
   "metadata": {},
   "outputs": [],
   "source": [
    "# Setting the base function we are going to use\n",
    "def get_completion(prompt, model=\"gpt-3.5-turbo\"):\n",
    "    messages = [{\"role\": \"user\", \"content\": prompt}]\n",
    "    response = openai.ChatCompletion.create(\n",
    "        model=model,\n",
    "        messages=messages,\n",
    "        temperature=0, # this is the degree of randomness of the model's output\n",
    "    )\n",
    "    return response.choices[0].message[\"content\"]"
   ]
  },
  {
   "cell_type": "markdown",
   "id": "c465109d-eaf5-4b2b-9bb1-3a96bb953224",
   "metadata": {},
   "source": [
    "## Just trying ... "
   ]
  },
  {
   "cell_type": "code",
   "execution_count": null,
   "id": "6c6b8099-7816-427a-a32f-7a08ff05d22d",
   "metadata": {},
   "outputs": [],
   "source": [
    "text = f\"\"\"\n",
    "You should express what you want a model to do by \\ \n",
    "providing instructions that are as clear and \\ \n",
    "specific as you can possibly make them. \\ \n",
    "This will guide the model towards the desired output, \\ \n",
    "and reduce the chances of receiving irrelevant \\ \n",
    "or incorrect responses. Don't confuse writing a \\ \n",
    "clear prompt with writing a short prompt. \\ \n",
    "In many cases, longer prompts provide more clarity \\ \n",
    "and context for the model, which can lead to \\ \n",
    "more detailed and relevant outputs.\n",
    "\"\"\"\n",
    "prompt = f\"\"\"\n",
    "Summarize the text delimited by triple backticks \\ \n",
    "into a single sentence.\n",
    "```{text}```\n",
    "\"\"\"\n",
    "response = get_completion(prompt)\n",
    "print(response)"
   ]
  },
  {
   "cell_type": "code",
   "execution_count": null,
   "id": "27802b9c-1117-4a14-bfbf-91da32e0dadd",
   "metadata": {},
   "outputs": [],
   "source": []
  }
 ],
 "metadata": {
  "kernelspec": {
   "display_name": "Python 3 (ipykernel)",
   "language": "python",
   "name": "python3"
  },
  "language_info": {
   "codemirror_mode": {
    "name": "ipython",
    "version": 3
   },
   "file_extension": ".py",
   "mimetype": "text/x-python",
   "name": "python",
   "nbconvert_exporter": "python",
   "pygments_lexer": "ipython3",
   "version": "3.9.16"
  }
 },
 "nbformat": 4,
 "nbformat_minor": 5
}
